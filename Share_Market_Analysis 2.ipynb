{
 "cells": [
  {
   "cell_type": "code",
   "execution_count": 61,
   "metadata": {},
   "outputs": [],
   "source": [
    "#Install the dependencies\n",
    "#import quandl\n",
    "#pip install virtualenv\n",
    "import matplotlib.pyplot as plt\n",
    "import numpy as np\n",
    "import pandas as pd\n",
    "from sklearn.linear_model import LinearRegression\n",
    "from sklearn.svm import SVR\n",
    "from sklearn.model_selection import train_test_split\n",
    "pd.set_option(\"display.max_column\" ,None)\n",
    "pd.set_option(\"display.max_column\" ,None)"
   ]
  },
  {
   "cell_type": "code",
   "execution_count": 75,
   "metadata": {},
   "outputs": [
    {
     "data": {
      "text/html": [
       "<div>\n",
       "<style scoped>\n",
       "    .dataframe tbody tr th:only-of-type {\n",
       "        vertical-align: middle;\n",
       "    }\n",
       "\n",
       "    .dataframe tbody tr th {\n",
       "        vertical-align: top;\n",
       "    }\n",
       "\n",
       "    .dataframe thead th {\n",
       "        text-align: right;\n",
       "    }\n",
       "</style>\n",
       "<table border=\"1\" class=\"dataframe\">\n",
       "  <thead>\n",
       "    <tr style=\"text-align: right;\">\n",
       "      <th></th>\n",
       "      <th>Symbol</th>\n",
       "      <th>Series</th>\n",
       "      <th>Date</th>\n",
       "      <th>Prev Close</th>\n",
       "      <th>Open Price</th>\n",
       "      <th>High Price</th>\n",
       "      <th>Low Price</th>\n",
       "      <th>Last Price</th>\n",
       "      <th>Close Price</th>\n",
       "      <th>Average Price</th>\n",
       "      <th>Total Traded Quantity</th>\n",
       "      <th>Turnover</th>\n",
       "      <th>No. of Trades</th>\n",
       "      <th>Deliverable Qty</th>\n",
       "      <th>% Dly Qt to Traded Qty</th>\n",
       "    </tr>\n",
       "  </thead>\n",
       "  <tbody>\n",
       "    <tr>\n",
       "      <th>0</th>\n",
       "      <td>YESBANK</td>\n",
       "      <td>EQ</td>\n",
       "      <td>05-Dec-2017</td>\n",
       "      <td>303.20</td>\n",
       "      <td>302.15</td>\n",
       "      <td>310.00</td>\n",
       "      <td>300.60</td>\n",
       "      <td>309.25</td>\n",
       "      <td>308.70</td>\n",
       "      <td>305.46</td>\n",
       "      <td>7558058</td>\n",
       "      <td>2.308717e+09</td>\n",
       "      <td>83051</td>\n",
       "      <td>3505426</td>\n",
       "      <td>46.38</td>\n",
       "    </tr>\n",
       "    <tr>\n",
       "      <th>1</th>\n",
       "      <td>YESBANK</td>\n",
       "      <td>EQ</td>\n",
       "      <td>06-Dec-2017</td>\n",
       "      <td>308.70</td>\n",
       "      <td>306.80</td>\n",
       "      <td>309.90</td>\n",
       "      <td>304.60</td>\n",
       "      <td>306.65</td>\n",
       "      <td>306.45</td>\n",
       "      <td>307.16</td>\n",
       "      <td>6114939</td>\n",
       "      <td>1.878270e+09</td>\n",
       "      <td>78923</td>\n",
       "      <td>3058747</td>\n",
       "      <td>50.02</td>\n",
       "    </tr>\n",
       "    <tr>\n",
       "      <th>2</th>\n",
       "      <td>YESBANK</td>\n",
       "      <td>EQ</td>\n",
       "      <td>07-Dec-2017</td>\n",
       "      <td>306.45</td>\n",
       "      <td>306.55</td>\n",
       "      <td>311.95</td>\n",
       "      <td>306.55</td>\n",
       "      <td>310.55</td>\n",
       "      <td>310.50</td>\n",
       "      <td>310.42</td>\n",
       "      <td>5794382</td>\n",
       "      <td>1.798682e+09</td>\n",
       "      <td>73536</td>\n",
       "      <td>2675152</td>\n",
       "      <td>46.17</td>\n",
       "    </tr>\n",
       "    <tr>\n",
       "      <th>3</th>\n",
       "      <td>YESBANK</td>\n",
       "      <td>EQ</td>\n",
       "      <td>08-Dec-2017</td>\n",
       "      <td>310.50</td>\n",
       "      <td>312.00</td>\n",
       "      <td>315.50</td>\n",
       "      <td>311.00</td>\n",
       "      <td>312.50</td>\n",
       "      <td>312.70</td>\n",
       "      <td>313.53</td>\n",
       "      <td>8434605</td>\n",
       "      <td>2.644496e+09</td>\n",
       "      <td>103648</td>\n",
       "      <td>4485317</td>\n",
       "      <td>53.18</td>\n",
       "    </tr>\n",
       "    <tr>\n",
       "      <th>4</th>\n",
       "      <td>YESBANK</td>\n",
       "      <td>EQ</td>\n",
       "      <td>11-Dec-2017</td>\n",
       "      <td>312.70</td>\n",
       "      <td>313.50</td>\n",
       "      <td>315.80</td>\n",
       "      <td>310.60</td>\n",
       "      <td>310.90</td>\n",
       "      <td>311.60</td>\n",
       "      <td>312.52</td>\n",
       "      <td>4416465</td>\n",
       "      <td>1.380248e+09</td>\n",
       "      <td>70439</td>\n",
       "      <td>2399909</td>\n",
       "      <td>54.34</td>\n",
       "    </tr>\n",
       "  </tbody>\n",
       "</table>\n",
       "</div>"
      ],
      "text/plain": [
       "    Symbol Series         Date  Prev Close  Open Price  High Price  Low Price  \\\n",
       "0  YESBANK     EQ  05-Dec-2017      303.20      302.15      310.00     300.60   \n",
       "1  YESBANK     EQ  06-Dec-2017      308.70      306.80      309.90     304.60   \n",
       "2  YESBANK     EQ  07-Dec-2017      306.45      306.55      311.95     306.55   \n",
       "3  YESBANK     EQ  08-Dec-2017      310.50      312.00      315.50     311.00   \n",
       "4  YESBANK     EQ  11-Dec-2017      312.70      313.50      315.80     310.60   \n",
       "\n",
       "   Last Price  Close Price  Average Price  Total Traded Quantity  \\\n",
       "0      309.25       308.70         305.46                7558058   \n",
       "1      306.65       306.45         307.16                6114939   \n",
       "2      310.55       310.50         310.42                5794382   \n",
       "3      312.50       312.70         313.53                8434605   \n",
       "4      310.90       311.60         312.52                4416465   \n",
       "\n",
       "       Turnover  No. of Trades  Deliverable Qty  % Dly Qt to Traded Qty  \n",
       "0  2.308717e+09          83051          3505426                   46.38  \n",
       "1  1.878270e+09          78923          3058747                   50.02  \n",
       "2  1.798682e+09          73536          2675152                   46.17  \n",
       "3  2.644496e+09         103648          4485317                   53.18  \n",
       "4  1.380248e+09          70439          2399909                   54.34  "
      ]
     },
     "execution_count": 75,
     "metadata": {},
     "output_type": "execute_result"
    }
   ],
   "source": [
    "# Get the stock data\n",
    "df1 = pd.read_csv(r\"C:\\Users\\akshay.vilayatkar.vc\\Downloads\\05-12-2017-TO-04-12-2019YESBANKALLN.csv\")\n",
    "\n",
    "# Take a look at the data\n",
    "df1.head()"
   ]
  },
  {
   "cell_type": "markdown",
   "metadata": {},
   "source": [
    "I only need the Adjusted Close (Adj. Close) price, so I am getting data only from the column ‘Adj. Close’ and storing this back into the variable ‘df’."
   ]
  },
  {
   "cell_type": "code",
   "execution_count": 63,
   "metadata": {
    "scrolled": false
   },
   "outputs": [
    {
     "name": "stdout",
     "output_type": "stream",
     "text": [
      "   Close Price\n",
      "0       308.70\n",
      "1       306.45\n",
      "2       310.50\n",
      "3       312.70\n",
      "4       311.60\n"
     ]
    }
   ],
   "source": [
    "# Get the Adjusted Close Price \n",
    "df = df[['Close Price']] \n",
    "# Take a look at the new data \n",
    "print(df.head())\n"
   ]
  },
  {
   "cell_type": "code",
   "execution_count": 64,
   "metadata": {},
   "outputs": [
    {
     "data": {
      "text/plain": [
       "<bound method NDFrame.describe of 0      308.70\n",
       "1      306.45\n",
       "2      310.50\n",
       "3      312.70\n",
       "4      311.60\n",
       "5      306.80\n",
       "6      301.90\n",
       "7      303.90\n",
       "8      315.90\n",
       "9      311.15\n",
       "10     312.25\n",
       "11     311.70\n",
       "12     310.45\n",
       "13     310.15\n",
       "14     315.50\n",
       "15     315.15\n",
       "16     313.50\n",
       "17     315.15\n",
       "18     312.60\n",
       "19     311.65\n",
       "20     315.85\n",
       "21     317.10\n",
       "22     332.85\n",
       "23     333.60\n",
       "24     341.35\n",
       "25     339.80\n",
       "26     343.15\n",
       "27     340.90\n",
       "28     336.00\n",
       "29     334.85\n",
       "        ...  \n",
       "462     51.20\n",
       "463     48.30\n",
       "464     52.15\n",
       "465     54.75\n",
       "466     58.15\n",
       "467     56.80\n",
       "468     70.40\n",
       "469     66.60\n",
       "470     66.15\n",
       "471     68.30\n",
       "472     68.70\n",
       "473     66.45\n",
       "474     68.95\n",
       "475     73.00\n",
       "476     68.20\n",
       "477     68.75\n",
       "478     68.70\n",
       "479     65.85\n",
       "480     64.15\n",
       "481     65.85\n",
       "482     64.25\n",
       "483     64.80\n",
       "484     63.75\n",
       "485     63.15\n",
       "486     68.25\n",
       "487     70.05\n",
       "488     68.30\n",
       "489     64.05\n",
       "490     59.50\n",
       "491     63.00\n",
       "Name: Close Price, Length: 492, dtype: float64>"
      ]
     },
     "execution_count": 64,
     "metadata": {},
     "output_type": "execute_result"
    }
   ],
   "source": [
    "df['Close Price'].describe"
   ]
  },
  {
   "cell_type": "code",
   "execution_count": 65,
   "metadata": {
    "scrolled": true
   },
   "outputs": [
    {
     "name": "stderr",
     "output_type": "stream",
     "text": [
      "C:\\Program Files (x86)\\Microsoft Visual Studio\\Shared\\Anaconda3_64\\lib\\site-packages\\matplotlib\\axes\\_axes.py:6462: UserWarning: The 'normed' kwarg is deprecated, and has been replaced by the 'density' kwarg.\n",
      "  warnings.warn(\"The 'normed' kwarg is deprecated, and has been \"\n"
     ]
    },
    {
     "data": {
      "text/plain": [
       "<matplotlib.axes._subplots.AxesSubplot at 0x20ddf4dbd30>"
      ]
     },
     "execution_count": 65,
     "metadata": {},
     "output_type": "execute_result"
    },
    {
     "data": {
      "image/png": "[encoded data removed]",
      "text/plain": [
       "<Figure size 432x288 with 1 Axes>"
      ]
     },
     "metadata": {},
     "output_type": "display_data"
    }
   ],
   "source": [
    "import seaborn as sns\n",
    "sns.distplot(df['Close Price'])"
   ]
  },
  {
   "cell_type": "code",
   "execution_count": 60,
   "metadata": {
    "scrolled": true
   },
   "outputs": [
    {
     "data": {
      "text/plain": [
       "<matplotlib.axes._subplots.AxesSubplot at 0x20ddf661630>"
      ]
     },
     "execution_count": 60,
     "metadata": {},
     "output_type": "execute_result"
    },
    {
     "data": {
      "image/png": "[encoded data removed]",
      "text/plain": [
       "<Figure size 432x288 with 1 Axes>"
      ]
     },
     "metadata": {},
     "output_type": "display_data"
    }
   ],
   "source": [
    "#scatter plot totalbsmtsf/saleprice\n",
    "\n",
    "var = \"No. of Trades\"\n",
    "df1 = pd.concat([df1['Close Price'], df1[var]], axis=1)\n",
    "df1.plot.scatter(x=var, y='Close Price', ylim=(0,600))\n"
   ]
  },
  {
   "cell_type": "code",
   "execution_count": 72,
   "metadata": {
    "scrolled": true
   },
   "outputs": [
    {
     "data": {
      "text/plain": [
       "<matplotlib.axes._subplots.AxesSubplot at 0x20ddf79f828>"
      ]
     },
     "execution_count": 72,
     "metadata": {},
     "output_type": "execute_result"
    },
    {
     "data": {
      "image/png": "[encoded data removed]",
      "text/plain": [
       "<Figure size 432x288 with 1 Axes>"
      ]
     },
     "metadata": {},
     "output_type": "display_data"
    }
   ],
   "source": [
    "\n",
    "var = \"Deliverable Qty\"\n",
    "df1 = pd.concat([df1['Close Price'], df1[var]], axis=1)\n",
    "df1.plot.scatter(x=var, y='Close Price', ylim=(0,600))\n"
   ]
  },
  {
   "cell_type": "code",
   "execution_count": 76,
   "metadata": {},
   "outputs": [
    {
     "data": {
      "text/plain": [
       "<matplotlib.axes._subplots.AxesSubplot at 0x20ddf803278>"
      ]
     },
     "execution_count": 76,
     "metadata": {},
     "output_type": "execute_result"
    },
    {
     "data": {
      "image/png": "[encoded data removed]",
      "text/plain": [
       "<Figure size 432x288 with 1 Axes>"
      ]
     },
     "metadata": {},
     "output_type": "display_data"
    }
   ],
   "source": [
    "var = \"% Dly Qt to Traded Qty\"\n",
    "df1 = pd.concat([df1['Close Price'], df1[var]], axis=1)\n",
    "df1.plot.scatter(x=var, y='Close Price', ylim=(0,600))"
   ]
  },
  {
   "cell_type": "markdown",
   "metadata": {},
   "source": [
    "Now , I’m creating a variable called forecast_out to store the number of days into the future that I want to predict.\n",
    " if I decide I only want to look 20 days into the future, I can simply change this variable from 30 to 20, and the program will predict now 20 days into the future.\n",
    "    I also need a column (the target or dependent variable) that will hold the predicted price values 30 days into the future.The future price that I want that’s 30 days into the future is just 30 rows down from the current Adj.close price\n",
    "    \n",
    "    I will create a new column called ‘Prediction’ and populate it with data from the Adj. Close column but shifted 30 rows up to get the price of the next 30 days, and then print the last 5 rows of the new data set.\n",
    "    Since I shifted the data up 30 rows, the last 30 rows of data for the new column ‘Prediction’ will be empty or contain the value ‘NaN’ \n"
   ]
  },
  {
   "cell_type": "code",
   "execution_count": 89,
   "metadata": {
    "scrolled": true
   },
   "outputs": [
    {
     "name": "stdout",
     "output_type": "stream",
     "text": [
      "     Close Price  Prediction\n",
      "487        70.05         NaN\n",
      "488        68.30         NaN\n",
      "489        64.05         NaN\n",
      "490        59.50         NaN\n",
      "491        63.00         NaN\n"
     ]
    }
   ],
   "source": [
    "# A variable for predicting 'n' days out into the future\n",
    "forecast_out = 5 #'n=30' days\n",
    "#Create another column (the target ) shifted 'n' units up\n",
    "df['Prediction'] = df[['Close Price']].shift(-forecast_out)\n",
    "#print the new data set\n",
    "print(df.tail())"
   ]
  },
  {
   "cell_type": "markdown",
   "metadata": {},
   "source": [
    "create the independent data set (X)This is the data set that i will use to train the machine learning model(s). To do this I will create a variable called ‘X’ , and convert the data into a numpy (np) array after dropping the ‘Prediction’ column, then store this new data into ‘X’.\n",
    "\n",
    "Then I will remove the last 30 rows of data from ‘X’, and store the new data back into ‘X’. Last but not least I print the data."
   ]
  },
  {
   "cell_type": "code",
   "execution_count": 90,
   "metadata": {},
   "outputs": [
    {
     "name": "stdout",
     "output_type": "stream",
     "text": [
      "[[308.7 ]\n",
      " [306.45]\n",
      " [310.5 ]\n",
      " [312.7 ]\n",
      " [311.6 ]\n",
      " [306.8 ]\n",
      " [301.9 ]\n",
      " [303.9 ]\n",
      " [315.9 ]\n",
      " [311.15]\n",
      " [312.25]\n",
      " [311.7 ]\n",
      " [310.45]\n",
      " [310.15]\n",
      " [315.5 ]\n",
      " [315.15]\n",
      " [313.5 ]\n",
      " [315.15]\n",
      " [312.6 ]\n",
      " [311.65]\n",
      " [315.85]\n",
      " [317.1 ]\n",
      " [332.85]\n",
      " [333.6 ]\n",
      " [341.35]\n",
      " [339.8 ]\n",
      " [343.15]\n",
      " [340.9 ]\n",
      " [336.  ]\n",
      " [334.85]\n",
      " [342.4 ]\n",
      " [341.2 ]\n",
      " [349.35]\n",
      " [355.35]\n",
      " [359.55]\n",
      " [364.8 ]\n",
      " [361.6 ]\n",
      " [358.  ]\n",
      " [353.35]\n",
      " [354.4 ]\n",
      " [359.9 ]\n",
      " [349.05]\n",
      " [343.6 ]\n",
      " [338.75]\n",
      " [332.9 ]\n",
      " [335.  ]\n",
      " [325.55]\n",
      " [335.4 ]\n",
      " [320.35]\n",
      " [319.8 ]\n",
      " [311.8 ]\n",
      " [312.05]\n",
      " [308.7 ]\n",
      " [312.35]\n",
      " [316.1 ]\n",
      " [323.45]\n",
      " [326.15]\n",
      " [327.15]\n",
      " [322.3 ]\n",
      " [321.05]\n",
      " [312.95]\n",
      " [312.15]\n",
      " [311.95]\n",
      " [308.55]\n",
      " [303.25]\n",
      " [311.15]\n",
      " [312.8 ]\n",
      " [318.85]\n",
      " [311.85]\n",
      " [312.9 ]\n",
      " [304.8 ]\n",
      " [302.4 ]\n",
      " [300.75]\n",
      " [298.25]\n",
      " [286.65]\n",
      " [303.35]\n",
      " [303.5 ]\n",
      " [304.85]\n",
      " [306.25]\n",
      " [313.1 ]\n",
      " [305.45]\n",
      " [313.05]\n",
      " [314.5 ]\n",
      " [316.25]\n",
      " [319.25]\n",
      " [312.  ]\n",
      " [311.75]\n",
      " [309.55]\n",
      " [310.35]\n",
      " [307.9 ]\n",
      " [309.55]\n",
      " [318.5 ]\n",
      " [308.55]\n",
      " [313.05]\n",
      " [324.  ]\n",
      " [325.25]\n",
      " [352.4 ]\n",
      " [348.9 ]\n",
      " [362.  ]\n",
      " [354.25]\n",
      " [353.95]\n",
      " [345.1 ]\n",
      " [347.9 ]\n",
      " [343.3 ]\n",
      " [347.85]\n",
      " [344.65]\n",
      " [350.25]\n",
      " [344.8 ]\n",
      " [345.75]\n",
      " [349.75]\n",
      " [345.3 ]\n",
      " [345.5 ]\n",
      " [334.15]\n",
      " [334.7 ]\n",
      " [333.7 ]\n",
      " [330.  ]\n",
      " [339.4 ]\n",
      " [345.2 ]\n",
      " [338.05]\n",
      " [343.15]\n",
      " [346.2 ]\n",
      " [342.7 ]\n",
      " [342.95]\n",
      " [336.75]\n",
      " [339.15]\n",
      " [339.55]\n",
      " [337.65]\n",
      " [335.7 ]\n",
      " [332.2 ]\n",
      " [333.2 ]\n",
      " [337.2 ]\n",
      " [330.65]\n",
      " [331.65]\n",
      " [330.9 ]\n",
      " [336.1 ]\n",
      " [332.95]\n",
      " [335.1 ]\n",
      " [334.15]\n",
      " [335.95]\n",
      " [335.6 ]\n",
      " [329.3 ]\n",
      " [339.65]\n",
      " [337.05]\n",
      " [336.9 ]\n",
      " [335.55]\n",
      " [348.65]\n",
      " [352.6 ]\n",
      " [363.3 ]\n",
      " [371.4 ]\n",
      " [371.6 ]\n",
      " [374.8 ]\n",
      " [376.  ]\n",
      " [378.5 ]\n",
      " [380.8 ]\n",
      " [383.65]\n",
      " [392.3 ]\n",
      " [386.5 ]\n",
      " [386.6 ]\n",
      " [384.35]\n",
      " [382.9 ]\n",
      " [369.75]\n",
      " [370.  ]\n",
      " [369.3 ]\n",
      " [367.95]\n",
      " [365.85]\n",
      " [361.8 ]\n",
      " [373.2 ]\n",
      " [377.9 ]\n",
      " [381.65]\n",
      " [382.75]\n",
      " [381.05]\n",
      " [382.85]\n",
      " [370.7 ]\n",
      " [382.5 ]\n",
      " [378.45]\n",
      " [393.2 ]\n",
      " [394.  ]\n",
      " [391.35]\n",
      " [388.6 ]\n",
      " [374.2 ]\n",
      " [383.  ]\n",
      " [370.6 ]\n",
      " [365.15]\n",
      " [361.75]\n",
      " [343.5 ]\n",
      " [339.05]\n",
      " [334.05]\n",
      " [343.8 ]\n",
      " [339.2 ]\n",
      " [323.4 ]\n",
      " [323.65]\n",
      " [316.6 ]\n",
      " [314.3 ]\n",
      " [323.1 ]\n",
      " [318.6 ]\n",
      " [323.55]\n",
      " [319.2 ]\n",
      " [226.5 ]\n",
      " [226.4 ]\n",
      " [219.7 ]\n",
      " [223.75]\n",
      " [203.25]\n",
      " [183.65]\n",
      " [200.85]\n",
      " [212.75]\n",
      " [215.  ]\n",
      " [206.  ]\n",
      " [221.2 ]\n",
      " [224.65]\n",
      " [233.9 ]\n",
      " [240.2 ]\n",
      " [246.45]\n",
      " [246.  ]\n",
      " [248.9 ]\n",
      " [231.9 ]\n",
      " [217.9 ]\n",
      " [211.5 ]\n",
      " [213.2 ]\n",
      " [204.  ]\n",
      " [198.35]\n",
      " [180.7 ]\n",
      " [181.3 ]\n",
      " [182.05]\n",
      " [188.1 ]\n",
      " [204.05]\n",
      " [209.1 ]\n",
      " [210.1 ]\n",
      " [214.45]\n",
      " [215.95]\n",
      " [227.9 ]\n",
      " [223.05]\n",
      " [225.45]\n",
      " [222.4 ]\n",
      " [205.85]\n",
      " [191.  ]\n",
      " [204.8 ]\n",
      " [192.1 ]\n",
      " [198.15]\n",
      " [195.55]\n",
      " [187.9 ]\n",
      " [182.65]\n",
      " [162.1 ]\n",
      " [160.45]\n",
      " [169.8 ]\n",
      " [178.  ]\n",
      " [176.5 ]\n",
      " [173.4 ]\n",
      " [168.45]\n",
      " [166.2 ]\n",
      " [165.65]\n",
      " [177.85]\n",
      " [186.6 ]\n",
      " [174.7 ]\n",
      " [180.35]\n",
      " [181.  ]\n",
      " [179.  ]\n",
      " [179.55]\n",
      " [186.75]\n",
      " [182.95]\n",
      " [182.3 ]\n",
      " [179.45]\n",
      " [178.1 ]\n",
      " [181.45]\n",
      " [181.8 ]\n",
      " [184.25]\n",
      " [184.65]\n",
      " [184.1 ]\n",
      " [189.65]\n",
      " [187.15]\n",
      " [192.35]\n",
      " [186.45]\n",
      " [186.9 ]\n",
      " [184.25]\n",
      " [195.35]\n",
      " [203.  ]\n",
      " [208.35]\n",
      " [201.5 ]\n",
      " [198.6 ]\n",
      " [191.95]\n",
      " [192.2 ]\n",
      " [197.25]\n",
      " [215.4 ]\n",
      " [219.6 ]\n",
      " [207.5 ]\n",
      " [202.9 ]\n",
      " [199.5 ]\n",
      " [194.1 ]\n",
      " [185.6 ]\n",
      " [179.8 ]\n",
      " [176.1 ]\n",
      " [176.45]\n",
      " [176.95]\n",
      " [175.1 ]\n",
      " [173.25]\n",
      " [172.65]\n",
      " [169.45]\n",
      " [221.25]\n",
      " [219.  ]\n",
      " [213.55]\n",
      " [212.85]\n",
      " [217.85]\n",
      " [215.15]\n",
      " [222.  ]\n",
      " [229.1 ]\n",
      " [229.5 ]\n",
      " [228.2 ]\n",
      " [231.15]\n",
      " [237.6 ]\n",
      " [237.45]\n",
      " [235.3 ]\n",
      " [231.7 ]\n",
      " [232.3 ]\n",
      " [236.3 ]\n",
      " [235.85]\n",
      " [244.3 ]\n",
      " [249.85]\n",
      " [245.05]\n",
      " [245.95]\n",
      " [248.8 ]\n",
      " [252.15]\n",
      " [252.15]\n",
      " [252.6 ]\n",
      " [247.25]\n",
      " [253.7 ]\n",
      " [268.45]\n",
      " [276.1 ]\n",
      " [275.1 ]\n",
      " [275.9 ]\n",
      " [280.3 ]\n",
      " [273.7 ]\n",
      " [268.05]\n",
      " [266.85]\n",
      " [260.05]\n",
      " [270.6 ]\n",
      " [268.25]\n",
      " [269.05]\n",
      " [267.9 ]\n",
      " [265.5 ]\n",
      " [266.45]\n",
      " [255.8 ]\n",
      " [238.35]\n",
      " [232.7 ]\n",
      " [239.15]\n",
      " [237.05]\n",
      " [237.2 ]\n",
      " [168.  ]\n",
      " [173.75]\n",
      " [175.9 ]\n",
      " [166.25]\n",
      " [164.75]\n",
      " [160.75]\n",
      " [170.3 ]\n",
      " [163.85]\n",
      " [154.7 ]\n",
      " [155.85]\n",
      " [142.95]\n",
      " [137.75]\n",
      " [134.15]\n",
      " [143.55]\n",
      " [141.  ]\n",
      " [137.55]\n",
      " [139.75]\n",
      " [141.2 ]\n",
      " [146.8 ]\n",
      " [152.8 ]\n",
      " [151.7 ]\n",
      " [155.  ]\n",
      " [147.8 ]\n",
      " [149.45]\n",
      " [152.8 ]\n",
      " [143.4 ]\n",
      " [139.9 ]\n",
      " [135.9 ]\n",
      " [139.55]\n",
      " [134.75]\n",
      " [117.1 ]\n",
      " [115.05]\n",
      " [116.15]\n",
      " [109.3 ]\n",
      " [103.2 ]\n",
      " [114.55]\n",
      " [109.6 ]\n",
      " [111.95]\n",
      " [110.05]\n",
      " [113.05]\n",
      " [112.4 ]\n",
      " [108.75]\n",
      " [109.15]\n",
      " [100.8 ]\n",
      " [ 99.75]\n",
      " [ 96.25]\n",
      " [ 88.15]\n",
      " [ 93.15]\n",
      " [ 91.35]\n",
      " [ 93.  ]\n",
      " [ 92.45]\n",
      " [ 94.2 ]\n",
      " [ 93.2 ]\n",
      " [103.85]\n",
      " [ 98.4 ]\n",
      " [ 85.8 ]\n",
      " [ 83.25]\n",
      " [ 91.15]\n",
      " [ 90.65]\n",
      " [ 89.15]\n",
      " [ 87.65]\n",
      " [ 96.05]\n",
      " [ 94.75]\n",
      " [ 86.05]\n",
      " [ 91.2 ]\n",
      " [ 88.4 ]\n",
      " [ 88.3 ]\n",
      " [ 81.1 ]\n",
      " [ 85.35]\n",
      " [ 86.85]\n",
      " [ 89.2 ]\n",
      " [ 82.15]\n",
      " [ 73.6 ]\n",
      " [ 76.55]\n",
      " [ 79.45]\n",
      " [ 76.65]\n",
      " [ 71.2 ]\n",
      " [ 65.4 ]\n",
      " [ 56.3 ]\n",
      " [ 59.25]\n",
      " [ 62.9 ]\n",
      " [ 64.5 ]\n",
      " [ 59.5 ]\n",
      " [ 57.4 ]\n",
      " [ 59.95]\n",
      " [ 58.75]\n",
      " [ 59.45]\n",
      " [ 61.95]\n",
      " [ 60.4 ]\n",
      " [ 63.1 ]\n",
      " [ 71.6 ]\n",
      " [ 67.95]\n",
      " [ 68.55]\n",
      " [ 67.05]\n",
      " [ 65.1 ]\n",
      " [ 64.1 ]\n",
      " [ 54.1 ]\n",
      " [ 55.5 ]\n",
      " [ 55.45]\n",
      " [ 56.05]\n",
      " [ 53.7 ]\n",
      " [ 51.05]\n",
      " [ 48.75]\n",
      " [ 41.4 ]\n",
      " [ 32.  ]\n",
      " [ 42.5 ]\n",
      " [ 42.15]\n",
      " [ 45.65]\n",
      " [ 43.25]\n",
      " [ 40.95]\n",
      " [ 39.6 ]\n",
      " [ 40.1 ]\n",
      " [ 40.6 ]\n",
      " [ 41.05]\n",
      " [ 47.4 ]\n",
      " [ 51.4 ]\n",
      " [ 51.8 ]\n",
      " [ 51.2 ]\n",
      " [ 48.3 ]\n",
      " [ 52.15]\n",
      " [ 54.75]\n",
      " [ 58.15]\n",
      " [ 56.8 ]\n",
      " [ 70.4 ]\n",
      " [ 66.6 ]\n",
      " [ 66.15]\n",
      " [ 68.3 ]\n",
      " [ 68.7 ]\n",
      " [ 66.45]\n",
      " [ 68.95]\n",
      " [ 73.  ]\n",
      " [ 68.2 ]\n",
      " [ 68.75]\n",
      " [ 68.7 ]\n",
      " [ 65.85]\n",
      " [ 64.15]\n",
      " [ 65.85]\n",
      " [ 64.25]\n",
      " [ 64.8 ]\n",
      " [ 63.75]\n",
      " [ 63.15]\n",
      " [ 68.25]]\n"
     ]
    }
   ],
   "source": [
    "### Create the independent data set (X)  #######\n",
    "# Cont the dataframe to a numpy arverray\n",
    "X = np.array(df.drop(['Prediction'],1))\n",
    "\n",
    "#Remove the last '30' rows\n",
    "X = X[:-forecast_out]\n",
    "print(X)"
   ]
  },
  {
   "cell_type": "markdown",
   "metadata": {},
   "source": [
    "now I will create the dependent data set called ‘y’. This is the target data, the one that holds the future price predictions.\n",
    " create this new data set ‘y’, I will convert the data frame into a numpy array and from the ‘Prediction’ column, store it into a new variable called ‘y’ and then remove the last 30 rows of data from ‘y’. Then I will print ‘y’ to make sure their are no NaN’s."
   ]
  },
  {
   "cell_type": "code",
   "execution_count": 91,
   "metadata": {},
   "outputs": [
    {
     "name": "stdout",
     "output_type": "stream",
     "text": [
      "[306.8  301.9  303.9  315.9  311.15 312.25 311.7  310.45 310.15 315.5\n",
      " 315.15 313.5  315.15 312.6  311.65 315.85 317.1  332.85 333.6  341.35\n",
      " 339.8  343.15 340.9  336.   334.85 342.4  341.2  349.35 355.35 359.55\n",
      " 364.8  361.6  358.   353.35 354.4  359.9  349.05 343.6  338.75 332.9\n",
      " 335.   325.55 335.4  320.35 319.8  311.8  312.05 308.7  312.35 316.1\n",
      " 323.45 326.15 327.15 322.3  321.05 312.95 312.15 311.95 308.55 303.25\n",
      " 311.15 312.8  318.85 311.85 312.9  304.8  302.4  300.75 298.25 286.65\n",
      " 303.35 303.5  304.85 306.25 313.1  305.45 313.05 314.5  316.25 319.25\n",
      " 312.   311.75 309.55 310.35 307.9  309.55 318.5  308.55 313.05 324.\n",
      " 325.25 352.4  348.9  362.   354.25 353.95 345.1  347.9  343.3  347.85\n",
      " 344.65 350.25 344.8  345.75 349.75 345.3  345.5  334.15 334.7  333.7\n",
      " 330.   339.4  345.2  338.05 343.15 346.2  342.7  342.95 336.75 339.15\n",
      " 339.55 337.65 335.7  332.2  333.2  337.2  330.65 331.65 330.9  336.1\n",
      " 332.95 335.1  334.15 335.95 335.6  329.3  339.65 337.05 336.9  335.55\n",
      " 348.65 352.6  363.3  371.4  371.6  374.8  376.   378.5  380.8  383.65\n",
      " 392.3  386.5  386.6  384.35 382.9  369.75 370.   369.3  367.95 365.85\n",
      " 361.8  373.2  377.9  381.65 382.75 381.05 382.85 370.7  382.5  378.45\n",
      " 393.2  394.   391.35 388.6  374.2  383.   370.6  365.15 361.75 343.5\n",
      " 339.05 334.05 343.8  339.2  323.4  323.65 316.6  314.3  323.1  318.6\n",
      " 323.55 319.2  226.5  226.4  219.7  223.75 203.25 183.65 200.85 212.75\n",
      " 215.   206.   221.2  224.65 233.9  240.2  246.45 246.   248.9  231.9\n",
      " 217.9  211.5  213.2  204.   198.35 180.7  181.3  182.05 188.1  204.05\n",
      " 209.1  210.1  214.45 215.95 227.9  223.05 225.45 222.4  205.85 191.\n",
      " 204.8  192.1  198.15 195.55 187.9  182.65 162.1  160.45 169.8  178.\n",
      " 176.5  173.4  168.45 166.2  165.65 177.85 186.6  174.7  180.35 181.\n",
      " 179.   179.55 186.75 182.95 182.3  179.45 178.1  181.45 181.8  184.25\n",
      " 184.65 184.1  189.65 187.15 192.35 186.45 186.9  184.25 195.35 203.\n",
      " 208.35 201.5  198.6  191.95 192.2  197.25 215.4  219.6  207.5  202.9\n",
      " 199.5  194.1  185.6  179.8  176.1  176.45 176.95 175.1  173.25 172.65\n",
      " 169.45 221.25 219.   213.55 212.85 217.85 215.15 222.   229.1  229.5\n",
      " 228.2  231.15 237.6  237.45 235.3  231.7  232.3  236.3  235.85 244.3\n",
      " 249.85 245.05 245.95 248.8  252.15 252.15 252.6  247.25 253.7  268.45\n",
      " 276.1  275.1  275.9  280.3  273.7  268.05 266.85 260.05 270.6  268.25\n",
      " 269.05 267.9  265.5  266.45 255.8  238.35 232.7  239.15 237.05 237.2\n",
      " 168.   173.75 175.9  166.25 164.75 160.75 170.3  163.85 154.7  155.85\n",
      " 142.95 137.75 134.15 143.55 141.   137.55 139.75 141.2  146.8  152.8\n",
      " 151.7  155.   147.8  149.45 152.8  143.4  139.9  135.9  139.55 134.75\n",
      " 117.1  115.05 116.15 109.3  103.2  114.55 109.6  111.95 110.05 113.05\n",
      " 112.4  108.75 109.15 100.8   99.75  96.25  88.15  93.15  91.35  93.\n",
      "  92.45  94.2   93.2  103.85  98.4   85.8   83.25  91.15  90.65  89.15\n",
      "  87.65  96.05  94.75  86.05  91.2   88.4   88.3   81.1   85.35  86.85\n",
      "  89.2   82.15  73.6   76.55  79.45  76.65  71.2   65.4   56.3   59.25\n",
      "  62.9   64.5   59.5   57.4   59.95  58.75  59.45  61.95  60.4   63.1\n",
      "  71.6   67.95  68.55  67.05  65.1   64.1   54.1   55.5   55.45  56.05\n",
      "  53.7   51.05  48.75  41.4   32.    42.5   42.15  45.65  43.25  40.95\n",
      "  39.6   40.1   40.6   41.05  47.4   51.4   51.8   51.2   48.3   52.15\n",
      "  54.75  58.15  56.8   70.4   66.6   66.15  68.3   68.7   66.45  68.95\n",
      "  73.    68.2   68.75  68.7   65.85  64.15  65.85  64.25  64.8   63.75\n",
      "  63.15  68.25  70.05  68.3   64.05  59.5   63.  ]\n"
     ]
    }
   ],
   "source": [
    "### Create the dependent data set (y)  #####\n",
    "# Convert the dataframe to a numpy array \n",
    "y = np.array(df['Prediction'])\n",
    "# Get all of the y values except the last '30' rows\n",
    "y = y[:-forecast_out]\n",
    "print(y)"
   ]
  },
  {
   "cell_type": "markdown",
   "metadata": {},
   "source": [
    "I can split them up into 80% training and 20 % testing data for the model(s)."
   ]
  },
  {
   "cell_type": "code",
   "execution_count": 93,
   "metadata": {},
   "outputs": [],
   "source": [
    "# Split the data into 80% training and 20% testing\n",
    "x_train, x_test, y_train, y_test = train_test_split(X, y, test_size=0.2)"
   ]
  },
  {
   "cell_type": "markdown",
   "metadata": {},
   "source": [
    "can start creating and training the models "
   ]
  },
  {
   "cell_type": "markdown",
   "metadata": {},
   "source": [
    "test the model by getting the score also known as the coefficient of determination R² of the prediction. The best possible score is 1.0, and the model returns a score of 0.9274190417518909."
   ]
  },
  {
   "cell_type": "code",
   "execution_count": 94,
   "metadata": {
    "scrolled": true
   },
   "outputs": [
    {
     "data": {
      "text/plain": [
       "SVR(C=1000.0, cache_size=200, coef0=0.0, degree=3, epsilon=0.1, gamma=0.1,\n",
       "  kernel='rbf', max_iter=-1, shrinking=True, tol=0.001, verbose=False)"
      ]
     },
     "execution_count": 94,
     "metadata": {},
     "output_type": "execute_result"
    }
   ],
   "source": [
    "# Create and train the Support Vector Machine (Regressor) \n",
    "svr_rbf = SVR(kernel='rbf', C=1e3, gamma=0.1) \n",
    "svr_rbf.fit(x_train, y_train)"
   ]
  },
  {
   "cell_type": "markdown",
   "metadata": {},
   "source": [
    "Next I will create & train the Linear Regression model !"
   ]
  },
  {
   "cell_type": "code",
   "execution_count": 83,
   "metadata": {},
   "outputs": [
    {
     "name": "stdout",
     "output_type": "stream",
     "text": [
      "svm confidence:  0.9544450121420037\n"
     ]
    }
   ],
   "source": [
    "# Testing Model: Score returns the coefficient of determination R^2 of the prediction. \n",
    "# The best possible score is 1.0\n",
    "svm_confidence = svr_rbf.score(x_test, y_test)\n",
    "print(\"svm confidence: \", svm_confidence)"
   ]
  },
  {
   "cell_type": "markdown",
   "metadata": {},
   "source": [
    "Let’s test the model by getting the score also known as the coefficient of determination R² of the prediction. The best possible score is 1.0, and the model returns a score of 0.9874918531515935."
   ]
  },
  {
   "cell_type": "code",
   "execution_count": 84,
   "metadata": {},
   "outputs": [
    {
     "data": {
      "text/plain": [
       "LinearRegression(copy_X=True, fit_intercept=True, n_jobs=1, normalize=False)"
      ]
     },
     "execution_count": 84,
     "metadata": {},
     "output_type": "execute_result"
    }
   ],
   "source": [
    "# Create and train the Linear Regression  Model\n",
    "lr = LinearRegression()\n",
    "# Train the model\n",
    "lr.fit(x_train, y_train)"
   ]
  },
  {
   "cell_type": "code",
   "execution_count": 85,
   "metadata": {},
   "outputs": [
    {
     "name": "stdout",
     "output_type": "stream",
     "text": [
      "lr confidence:  0.9900900067620345\n"
     ]
    }
   ],
   "source": [
    "# Testing Model: Score returns the coefficient of determination R^2 of the prediction. \n",
    "# The best possible score is 1.0\n",
    "lr_confidence = lr.score(x_test, y_test)\n",
    "print(\"lr confidence: \", lr_confidence)"
   ]
  },
  {
   "cell_type": "markdown",
   "metadata": {},
   "source": [
    " I am ready to do some forecasting / predictions. I will take the last 30 rows of data from the data frame of the Adj. Close price, and store it into a variable called x_forecast after transforming it into a numpy array and dropping the ‘Prediction’ column of course. Then I will print the data to make sure the 30 rows are all there."
   ]
  },
  {
   "cell_type": "code",
   "execution_count": 86,
   "metadata": {},
   "outputs": [
    {
     "name": "stdout",
     "output_type": "stream",
     "text": [
      "[[63.]]\n"
     ]
    }
   ],
   "source": [
    "# Set x_forecast equal to the last 30 rows of the original data set from Adj. Close column\n",
    "x_forecast = np.array(df.drop(['Prediction'],1))[-forecast_out:]\n",
    "print(x_forecast)"
   ]
  },
  {
   "cell_type": "markdown",
   "metadata": {},
   "source": [
    "I have arrived at the moment of truth. I will print out the future price (next 30 days) predictions of Amazon stock using the linear regression model, and then print out the Amazon stock price predictions for te next 30 days of the support vector machine using the x_forecast data !"
   ]
  },
  {
   "cell_type": "code",
   "execution_count": 87,
   "metadata": {
    "scrolled": true
   },
   "outputs": [
    {
     "name": "stdout",
     "output_type": "stream",
     "text": [
      "Linear Prediction Result [62.70246076]\n",
      "\n",
      "SVM Prediction Result: [68.42980631]\n"
     ]
    }
   ],
   "source": [
    "# Print linear regression model predictions for the next '30' days\n",
    "lr_prediction = lr.predict(x_forecast)\n",
    "print(\"Linear Prediction Result\",lr_prediction)\n",
    "\n",
    "print()\n",
    "# Print support vector regressor model predictions for the next '30' days\n",
    "svm_prediction = svr_rbf.predict(x_forecast)\n",
    "print(\"SVM Prediction Result:\",svm_prediction)"
   ]
  },
  {
   "cell_type": "code",
   "execution_count": 88,
   "metadata": {},
   "outputs": [
    {
     "data": {
      "text/plain": [
       "[<matplotlib.lines.Line2D at 0x20ddf878d68>]"
      ]
     },
     "execution_count": 88,
     "metadata": {},
     "output_type": "execute_result"
    },
    {
     "data": {
      "image/png": "[encoded data removed]",
      "text/plain": [
       "<Figure size 432x288 with 1 Axes>"
      ]
     },
     "metadata": {},
     "output_type": "display_data"
    }
   ],
   "source": [
    "plt.plot(lr_prediction)\n"
   ]
  },
  {
   "cell_type": "code",
   "execution_count": 26,
   "metadata": {},
   "outputs": [
    {
     "data": {
      "text/plain": [
       "[<matplotlib.lines.Line2D at 0x202752eac18>]"
      ]
     },
     "execution_count": 26,
     "metadata": {},
     "output_type": "execute_result"
    },
    {
     "data": {
      "image/png": "[encoded data removed]",
      "text/plain": [
       "<Figure size 432x288 with 1 Axes>"
      ]
     },
     "metadata": {},
     "output_type": "display_data"
    }
   ],
   "source": [
    "plt.plot(svm_prediction)"
   ]
  },
  {
   "cell_type": "code",
   "execution_count": null,
   "metadata": {},
   "outputs": [],
   "source": []
  }
 ],
 "metadata": {
  "kernelspec": {
   "display_name": "Python 3",
   "language": "python",
   "name": "python3"
  },
  "language_info": {
   "codemirror_mode": {
    "name": "ipython",
    "version": 3
   },
   "file_extension": ".py",
   "mimetype": "text/x-python",
   "name": "python",
   "nbconvert_exporter": "python",
   "pygments_lexer": "ipython3",
   "version": "3.6.5"
  }
 },
 "nbformat": 4,
 "nbformat_minor": 2
}
